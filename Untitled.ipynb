{
 "cells": [
  {
   "cell_type": "code",
   "execution_count": null,
   "id": "ed035f40-6fbc-44da-90c0-acea5c4bcd5e",
   "metadata": {},
   "outputs": [],
   "source": []
  }
 ],
 "metadata": {
  "kernelspec": {
   "display_name": "",
   "name": ""
  },
  "language_info": {
   "name": ""
  }
 },
 "nbformat": 4,
 "nbformat_minor": 5
}
