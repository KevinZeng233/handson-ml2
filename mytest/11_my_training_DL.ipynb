{
 "cells": [
  {
   "metadata": {
    "ExecuteTime": {
     "end_time": "2025-01-07T07:33:29.226829Z",
     "start_time": "2025-01-07T07:33:28.759573Z"
    }
   },
   "cell_type": "code",
   "source": [
    "import os\n",
    "from pathlib import Path\n",
    "import pandas as pd\n",
    "# 当前脚本文件路径\n",
    "current_file_path = Path.cwd()\n",
    "# 上一级文件夹路径\n",
    "parent_folder_path = current_file_path.parent\n",
    "#学校集群\n",
    "Data_PATH = parent_folder_path / \"ML_datasets\"\n",
    "print(Data_PATH)\n",
    "def load_data(csv_name):\n",
    "    csv_path = os.path.join(Data_PATH, csv_name)\n",
    "    return pd.read_csv(csv_path)"
   ],
   "id": "ea4b338296d08f03",
   "outputs": [
    {
     "name": "stdout",
     "output_type": "stream",
     "text": [
      "/public/home/zss/ML_datasets\n"
     ]
    }
   ],
   "execution_count": 1
  },
  {
   "metadata": {
    "ExecuteTime": {
     "end_time": "2025-01-07T07:34:48.006177Z",
     "start_time": "2025-01-07T07:34:47.967690Z"
    }
   },
   "cell_type": "code",
   "source": [
    "# Python ≥3.5 is required\n",
    "import sys\n",
    "assert sys.version_info >= (3, 5)\n",
    "\n",
    "# Scikit-Learn ≥0.20 is required\n",
    "import sklearn\n",
    "assert sklearn.__version__ >= \"0.20\"\n",
    "\n",
    "try:\n",
    "    # %tensorflow_version only exists in Colab.\n",
    "    %tensorflow_version 2.x\n",
    "except Exception:\n",
    "    pass\n",
    "\n",
    "# TensorFlow ≥2.0 is required\n",
    "import tensorflow as tf\n",
    "# from tensorflow import keras\n",
    "import keras\n",
    "assert tf.__version__ >= \"2.0\"\n",
    "\n",
    "%load_ext tensorboard\n",
    "\n",
    "# Common imports\n",
    "import numpy as np\n",
    "import os\n",
    "\n",
    "# to make this notebook's output stable across runs\n",
    "np.random.seed(42)\n",
    "\n",
    "# To plot pretty figures\n",
    "%matplotlib inline\n",
    "import matplotlib as mpl\n",
    "import matplotlib.pyplot as plt\n",
    "mpl.rc('axes', labelsize=14)\n",
    "mpl.rc('xtick', labelsize=12)\n",
    "mpl.rc('ytick', labelsize=12)\n",
    "\n",
    "# Where to save the figures\n",
    "PROJECT_ROOT_DIR = \".\"\n",
    "CHAPTER_ID = \"deep\"\n",
    "IMAGES_PATH = os.path.join(PROJECT_ROOT_DIR, \"images\", CHAPTER_ID)\n",
    "os.makedirs(IMAGES_PATH, exist_ok=True)\n",
    "\n",
    "def save_fig(fig_id, tight_layout=True, fig_extension=\"png\", resolution=300):\n",
    "    path = os.path.join(IMAGES_PATH, fig_id + \".\" + fig_extension)\n",
    "    print(\"Saving figure\", fig_id)\n",
    "    if tight_layout:\n",
    "        plt.tight_layout()\n",
    "    plt.savefig(path, format=fig_extension, dpi=resolution)"
   ],
   "id": "eb7d28fadee7c535",
   "outputs": [
    {
     "name": "stdout",
     "output_type": "stream",
     "text": [
      "The tensorboard extension is already loaded. To reload it, use:\n",
      "  %reload_ext tensorboard\n"
     ]
    }
   ],
   "execution_count": 4
  },
  {
   "metadata": {},
   "cell_type": "markdown",
   "source": "# 11.1.1 Glorot和He初始化",
   "id": "ee2f693eca9fb4b2"
  },
  {
   "metadata": {
    "ExecuteTime": {
     "end_time": "2025-01-07T10:43:21.730526Z",
     "start_time": "2025-01-07T10:43:21.715522Z"
    }
   },
   "cell_type": "code",
   "source": "keras.layers.Dense(10, activation='relu',kernel_initializer=\"he_normal\")",
   "id": "daef207ae4680f8d",
   "outputs": [
    {
     "data": {
      "text/plain": [
       "<Dense name=dense, built=False>"
      ]
     },
     "execution_count": 5,
     "metadata": {},
     "output_type": "execute_result"
    }
   ],
   "execution_count": 5
  },
  {
   "metadata": {
    "ExecuteTime": {
     "end_time": "2025-01-07T10:46:12.869201Z",
     "start_time": "2025-01-07T10:46:12.855969Z"
    }
   },
   "cell_type": "code",
   "source": [
    "init = keras.initializers.VarianceScaling(scale=2.,mode= 'fan_avg',distribution='uniform')\n",
    "keras.layers.Dense(10, activation='relu',kernel_initializer=init)"
   ],
   "id": "27495e1f5538b27c",
   "outputs": [
    {
     "data": {
      "text/plain": [
       "<Dense name=dense_1, built=False>"
      ]
     },
     "execution_count": 6,
     "metadata": {},
     "output_type": "execute_result"
    }
   ],
   "execution_count": 6
  },
  {
   "metadata": {},
   "cell_type": "markdown",
   "source": "# 11.1.2 非饱和激活函数",
   "id": "554ee6fe0a669808"
  },
  {
   "metadata": {},
   "cell_type": "markdown",
   "source": "测试Leaky ReLU:",
   "id": "b07e36757a408277"
  },
  {
   "metadata": {
    "ExecuteTime": {
     "end_time": "2025-01-07T10:50:15.798755Z",
     "start_time": "2025-01-07T10:50:14.697534Z"
    }
   },
   "cell_type": "code",
   "source": [
    "(X_train_full, y_train_full), (X_test, y_test) = keras.datasets.fashion_mnist.load_data()\n",
    "X_train_full = X_train_full / 255.0\n",
    "X_test = X_test / 255.0\n",
    "X_valid, X_train = X_train_full[:5000], X_train_full[5000:]\n",
    "y_valid, y_train = y_train_full[:5000], y_train_full[5000:]"
   ],
   "id": "958165b19bbb4c9e",
   "outputs": [],
   "execution_count": 7
  },
  {
   "metadata": {
    "ExecuteTime": {
     "end_time": "2025-01-07T10:51:04.450557Z",
     "start_time": "2025-01-07T10:51:04.343086Z"
    }
   },
   "cell_type": "code",
   "source": [
    "tf.random.set_seed(42)\n",
    "np.random.seed(42)\n",
    "\n",
    "model = keras.Sequential([\n",
    "    keras.layers.Flatten(input_shape=(28,28)),\n",
    "    keras.layers.Dense(300, kernel_initializer='he_normal'),\n",
    "    keras.layers.LeakyReLU(),\n",
    "    keras.layers.Dense(100, kernel_initializer='he_normal'),\n",
    "    keras.layers.LeakyReLU(),\n",
    "    keras.layers.Dense(10, activation='softmax'),\n",
    "])"
   ],
   "id": "138bf308340ae1bf",
   "outputs": [],
   "execution_count": 10
  },
  {
   "metadata": {
    "ExecuteTime": {
     "end_time": "2025-01-07T10:52:10.556588Z",
     "start_time": "2025-01-07T10:52:10.520028Z"
    }
   },
   "cell_type": "code",
   "source": [
    "model.compile(loss='sparse_categorical_crossentropy',\n",
    "              optimizer=keras.optimizers.SGD(learning_rate=1e-3),\n",
    "              metrics=['accuracy'])"
   ],
   "id": "798ee41c34ab21ba",
   "outputs": [],
   "execution_count": 11
  },
  {
   "metadata": {
    "ExecuteTime": {
     "end_time": "2025-01-07T10:54:09.793571Z",
     "start_time": "2025-01-07T10:52:32.900144Z"
    }
   },
   "cell_type": "code",
   "source": "history = model.fit(X_train, y_train,epochs=10,validation_data=(X_valid, y_valid))",
   "id": "aa1666d2a2fa4d7b",
   "outputs": [
    {
     "name": "stdout",
     "output_type": "stream",
     "text": [
      "Epoch 1/10\n",
      "\u001B[1m1719/1719\u001B[0m \u001B[32m━━━━━━━━━━━━━━━━━━━━\u001B[0m\u001B[37m\u001B[0m \u001B[1m10s\u001B[0m 6ms/step - accuracy: 0.4852 - loss: 1.5979 - val_accuracy: 0.7218 - val_loss: 0.8591\n",
      "Epoch 2/10\n",
      "\u001B[1m1719/1719\u001B[0m \u001B[32m━━━━━━━━━━━━━━━━━━━━\u001B[0m\u001B[37m\u001B[0m \u001B[1m10s\u001B[0m 5ms/step - accuracy: 0.7261 - loss: 0.8242 - val_accuracy: 0.7744 - val_loss: 0.6984\n",
      "Epoch 3/10\n",
      "\u001B[1m1719/1719\u001B[0m \u001B[32m━━━━━━━━━━━━━━━━━━━━\u001B[0m\u001B[37m\u001B[0m \u001B[1m10s\u001B[0m 6ms/step - accuracy: 0.7741 - loss: 0.6912 - val_accuracy: 0.7982 - val_loss: 0.6261\n",
      "Epoch 4/10\n",
      "\u001B[1m1719/1719\u001B[0m \u001B[32m━━━━━━━━━━━━━━━━━━━━\u001B[0m\u001B[37m\u001B[0m \u001B[1m10s\u001B[0m 6ms/step - accuracy: 0.7946 - loss: 0.6248 - val_accuracy: 0.8106 - val_loss: 0.5826\n",
      "Epoch 5/10\n",
      "\u001B[1m1719/1719\u001B[0m \u001B[32m━━━━━━━━━━━━━━━━━━━━\u001B[0m\u001B[37m\u001B[0m \u001B[1m9s\u001B[0m 5ms/step - accuracy: 0.8069 - loss: 0.5833 - val_accuracy: 0.8170 - val_loss: 0.5528\n",
      "Epoch 6/10\n",
      "\u001B[1m1719/1719\u001B[0m \u001B[32m━━━━━━━━━━━━━━━━━━━━\u001B[0m\u001B[37m\u001B[0m \u001B[1m10s\u001B[0m 6ms/step - accuracy: 0.8138 - loss: 0.5543 - val_accuracy: 0.8236 - val_loss: 0.5308\n",
      "Epoch 7/10\n",
      "\u001B[1m1719/1719\u001B[0m \u001B[32m━━━━━━━━━━━━━━━━━━━━\u001B[0m\u001B[37m\u001B[0m \u001B[1m10s\u001B[0m 6ms/step - accuracy: 0.8194 - loss: 0.5329 - val_accuracy: 0.8292 - val_loss: 0.5140\n",
      "Epoch 8/10\n",
      "\u001B[1m1719/1719\u001B[0m \u001B[32m━━━━━━━━━━━━━━━━━━━━\u001B[0m\u001B[37m\u001B[0m \u001B[1m9s\u001B[0m 5ms/step - accuracy: 0.8251 - loss: 0.5162 - val_accuracy: 0.8326 - val_loss: 0.5006\n",
      "Epoch 9/10\n",
      "\u001B[1m1719/1719\u001B[0m \u001B[32m━━━━━━━━━━━━━━━━━━━━\u001B[0m\u001B[37m\u001B[0m \u001B[1m9s\u001B[0m 5ms/step - accuracy: 0.8284 - loss: 0.5026 - val_accuracy: 0.8360 - val_loss: 0.4896\n",
      "Epoch 10/10\n",
      "\u001B[1m1719/1719\u001B[0m \u001B[32m━━━━━━━━━━━━━━━━━━━━\u001B[0m\u001B[37m\u001B[0m \u001B[1m9s\u001B[0m 5ms/step - accuracy: 0.8310 - loss: 0.4913 - val_accuracy: 0.8384 - val_loss: 0.4804\n"
     ]
    }
   ],
   "execution_count": 12
  },
  {
   "metadata": {},
   "cell_type": "markdown",
   "source": "测试PReLU:",
   "id": "e89a607b2906aece"
  },
  {
   "metadata": {
    "ExecuteTime": {
     "end_time": "2025-01-07T11:06:56.779534Z",
     "start_time": "2025-01-07T11:05:12.724933Z"
    }
   },
   "cell_type": "code",
   "source": [
    "tf.random.set_seed(42)\n",
    "np.random.seed(42)\n",
    "\n",
    "model = keras.Sequential([\n",
    "    keras.layers.Flatten(input_shape=(28,28)),\n",
    "    keras.layers.Dense(300, kernel_initializer='he_normal'),\n",
    "    keras.layers.PReLU(),\n",
    "    keras.layers.Dense(100, kernel_initializer='he_normal'),\n",
    "    keras.layers.PReLU(),\n",
    "    keras.layers.Dense(10, activation='softmax'),\n",
    "])\n",
    "\n",
    "model.compile(loss='sparse_categorical_crossentropy',\n",
    "              optimizer=keras.optimizers.SGD(learning_rate=1e-3),\n",
    "              metrics=['accuracy'])\n",
    "\n",
    "history = model.fit(X_train, y_train,epochs=10,validation_data=(X_valid, y_valid))"
   ],
   "id": "1a8b4df810f37c6b",
   "outputs": [
    {
     "name": "stdout",
     "output_type": "stream",
     "text": [
      "Epoch 1/10\n",
      "\u001B[1m1719/1719\u001B[0m \u001B[32m━━━━━━━━━━━━━━━━━━━━\u001B[0m\u001B[37m\u001B[0m \u001B[1m11s\u001B[0m 6ms/step - accuracy: 0.4310 - loss: 1.6941 - val_accuracy: 0.7182 - val_loss: 0.8987\n",
      "Epoch 2/10\n",
      "\u001B[1m1719/1719\u001B[0m \u001B[32m━━━━━━━━━━━━━━━━━━━━\u001B[0m\u001B[37m\u001B[0m \u001B[1m10s\u001B[0m 6ms/step - accuracy: 0.7230 - loss: 0.8555 - val_accuracy: 0.7712 - val_loss: 0.7212\n",
      "Epoch 3/10\n",
      "\u001B[1m1719/1719\u001B[0m \u001B[32m━━━━━━━━━━━━━━━━━━━━\u001B[0m\u001B[37m\u001B[0m \u001B[1m10s\u001B[0m 6ms/step - accuracy: 0.7687 - loss: 0.7106 - val_accuracy: 0.7974 - val_loss: 0.6402\n",
      "Epoch 4/10\n",
      "\u001B[1m1719/1719\u001B[0m \u001B[32m━━━━━━━━━━━━━━━━━━━━\u001B[0m\u001B[37m\u001B[0m \u001B[1m10s\u001B[0m 6ms/step - accuracy: 0.7919 - loss: 0.6374 - val_accuracy: 0.8114 - val_loss: 0.5905\n",
      "Epoch 5/10\n",
      "\u001B[1m1719/1719\u001B[0m \u001B[32m━━━━━━━━━━━━━━━━━━━━\u001B[0m\u001B[37m\u001B[0m \u001B[1m10s\u001B[0m 6ms/step - accuracy: 0.8041 - loss: 0.5910 - val_accuracy: 0.8196 - val_loss: 0.5566\n",
      "Epoch 6/10\n",
      "\u001B[1m1719/1719\u001B[0m \u001B[32m━━━━━━━━━━━━━━━━━━━━\u001B[0m\u001B[37m\u001B[0m \u001B[1m10s\u001B[0m 6ms/step - accuracy: 0.8132 - loss: 0.5590 - val_accuracy: 0.8264 - val_loss: 0.5321\n",
      "Epoch 7/10\n",
      "\u001B[1m1719/1719\u001B[0m \u001B[32m━━━━━━━━━━━━━━━━━━━━\u001B[0m\u001B[37m\u001B[0m \u001B[1m10s\u001B[0m 6ms/step - accuracy: 0.8209 - loss: 0.5354 - val_accuracy: 0.8300 - val_loss: 0.5133\n",
      "Epoch 8/10\n",
      "\u001B[1m1719/1719\u001B[0m \u001B[32m━━━━━━━━━━━━━━━━━━━━\u001B[0m\u001B[37m\u001B[0m \u001B[1m10s\u001B[0m 6ms/step - accuracy: 0.8270 - loss: 0.5170 - val_accuracy: 0.8332 - val_loss: 0.4985\n",
      "Epoch 9/10\n",
      "\u001B[1m1719/1719\u001B[0m \u001B[32m━━━━━━━━━━━━━━━━━━━━\u001B[0m\u001B[37m\u001B[0m \u001B[1m10s\u001B[0m 6ms/step - accuracy: 0.8316 - loss: 0.5023 - val_accuracy: 0.8370 - val_loss: 0.4865\n",
      "Epoch 10/10\n",
      "\u001B[1m1719/1719\u001B[0m \u001B[32m━━━━━━━━━━━━━━━━━━━━\u001B[0m\u001B[37m\u001B[0m \u001B[1m10s\u001B[0m 6ms/step - accuracy: 0.8342 - loss: 0.4901 - val_accuracy: 0.8404 - val_loss: 0.4763\n"
     ]
    }
   ],
   "execution_count": 13
  },
  {
   "metadata": {},
   "cell_type": "markdown",
   "source": "Let's create a neural net for Fashion MNIST with 100 hidden layers, using the SELU activation function:",
   "id": "97fcccaec7e89e20"
  },
  {
   "metadata": {
    "ExecuteTime": {
     "end_time": "2025-01-07T11:39:45.704135Z",
     "start_time": "2025-01-07T11:35:33.330706Z"
    }
   },
   "cell_type": "code",
   "source": [
    "np.random.seed(42)\n",
    "tf.random.set_seed(42)\n",
    "\n",
    "pixel_means = X_train.mean(axis=0, keepdims=True)\n",
    "pixel_stds = X_train.std(axis=0, keepdims=True)\n",
    "X_train_scaled = (X_train - pixel_means) / pixel_stds\n",
    "X_valid_scaled = (X_valid - pixel_means) / pixel_stds\n",
    "X_test_scaled = (X_test - pixel_means) / pixel_stds\n",
    "\n",
    "model = keras.models.Sequential()\n",
    "model.add(keras.layers.Flatten(input_shape=[28, 28]))\n",
    "model.add(keras.layers.Dense(300, activation=\"selu\",\n",
    "                             kernel_initializer=\"lecun_normal\"))\n",
    "for layer in range(99):\n",
    "    model.add(keras.layers.Dense(100, activation=\"selu\",\n",
    "                                 kernel_initializer=\"lecun_normal\"))\n",
    "model.add(keras.layers.Dense(10, activation=\"softmax\"))\n",
    "\n",
    "model.compile(loss=\"sparse_categorical_crossentropy\",\n",
    "              optimizer=keras.optimizers.SGD(learning_rate=1e-3),\n",
    "              metrics=[\"accuracy\"])\n",
    "\n",
    "history = model.fit(X_train_scaled, y_train, epochs=5,\n",
    "                    validation_data=(X_valid_scaled, y_valid))"
   ],
   "id": "e7fa7e1c174cd6c3",
   "outputs": [
    {
     "name": "stdout",
     "output_type": "stream",
     "text": [
      "Epoch 1/5\n",
      "\u001B[1m1719/1719\u001B[0m \u001B[32m━━━━━━━━━━━━━━━━━━━━\u001B[0m\u001B[37m\u001B[0m \u001B[1m54s\u001B[0m 29ms/step - accuracy: 0.3978 - loss: 1.5476 - val_accuracy: 0.7354 - val_loss: 0.7640\n",
      "Epoch 2/5\n",
      "\u001B[1m1719/1719\u001B[0m \u001B[32m━━━━━━━━━━━━━━━━━━━━\u001B[0m\u001B[37m\u001B[0m \u001B[1m48s\u001B[0m 28ms/step - accuracy: 0.7209 - loss: 0.7743 - val_accuracy: 0.7660 - val_loss: 0.6691\n",
      "Epoch 3/5\n",
      "\u001B[1m1719/1719\u001B[0m \u001B[32m━━━━━━━━━━━━━━━━━━━━\u001B[0m\u001B[37m\u001B[0m \u001B[1m49s\u001B[0m 28ms/step - accuracy: 0.7768 - loss: 0.6266 - val_accuracy: 0.8052 - val_loss: 0.5597\n",
      "Epoch 4/5\n",
      "\u001B[1m1719/1719\u001B[0m \u001B[32m━━━━━━━━━━━━━━━━━━━━\u001B[0m\u001B[37m\u001B[0m \u001B[1m49s\u001B[0m 28ms/step - accuracy: 0.8009 - loss: 0.5728 - val_accuracy: 0.8142 - val_loss: 0.5348\n",
      "Epoch 5/5\n",
      "\u001B[1m1719/1719\u001B[0m \u001B[32m━━━━━━━━━━━━━━━━━━━━\u001B[0m\u001B[37m\u001B[0m \u001B[1m48s\u001B[0m 28ms/step - accuracy: 0.8235 - loss: 0.5107 - val_accuracy: 0.8098 - val_loss: 0.5242\n"
     ]
    }
   ],
   "execution_count": 14
  },
  {
   "metadata": {},
   "cell_type": "markdown",
   "source": "Now look at what happens if we try to use the ReLU activation function",
   "id": "2834d8f4268d6c0a"
  },
  {
   "metadata": {
    "ExecuteTime": {
     "end_time": "2025-01-07T11:43:29.952670Z",
     "start_time": "2025-01-07T11:39:45.957027Z"
    }
   },
   "cell_type": "code",
   "source": [
    "np.random.seed(42)\n",
    "tf.random.set_seed(42)\n",
    "\n",
    "model = keras.models.Sequential()\n",
    "model.add(keras.layers.Flatten(input_shape=[28, 28]))\n",
    "model.add(keras.layers.Dense(300, activation=\"relu\", kernel_initializer=\"he_normal\"))\n",
    "for layer in range(99):\n",
    "    model.add(keras.layers.Dense(100, activation=\"relu\", kernel_initializer=\"he_normal\"))\n",
    "model.add(keras.layers.Dense(10, activation=\"softmax\"))\n",
    "\n",
    "model.compile(loss=\"sparse_categorical_crossentropy\",\n",
    "              optimizer=keras.optimizers.SGD(learning_rate=1e-3),\n",
    "              metrics=[\"accuracy\"])\n",
    "\n",
    "history = model.fit(X_train_scaled, y_train, epochs=5,\n",
    "                    validation_data=(X_valid_scaled, y_valid))"
   ],
   "id": "308872915f95039e",
   "outputs": [
    {
     "name": "stdout",
     "output_type": "stream",
     "text": [
      "Epoch 1/5\n",
      "\u001B[1m1719/1719\u001B[0m \u001B[32m━━━━━━━━━━━━━━━━━━━━\u001B[0m\u001B[37m\u001B[0m \u001B[1m48s\u001B[0m 26ms/step - accuracy: 0.1652 - loss: 2.1313 - val_accuracy: 0.4846 - val_loss: 1.2401\n",
      "Epoch 2/5\n",
      "\u001B[1m1719/1719\u001B[0m \u001B[32m━━━━━━━━━━━━━━━━━━━━\u001B[0m\u001B[37m\u001B[0m \u001B[1m43s\u001B[0m 25ms/step - accuracy: 0.4387 - loss: 1.3250 - val_accuracy: 0.5902 - val_loss: 1.0257\n",
      "Epoch 3/5\n",
      "\u001B[1m1719/1719\u001B[0m \u001B[32m━━━━━━━━━━━━━━━━━━━━\u001B[0m\u001B[37m\u001B[0m \u001B[1m43s\u001B[0m 25ms/step - accuracy: 0.6141 - loss: 0.9187 - val_accuracy: 0.6246 - val_loss: 0.9115\n",
      "Epoch 4/5\n",
      "\u001B[1m1719/1719\u001B[0m \u001B[32m━━━━━━━━━━━━━━━━━━━━\u001B[0m\u001B[37m\u001B[0m \u001B[1m43s\u001B[0m 25ms/step - accuracy: 0.5851 - loss: 1.0118 - val_accuracy: 0.6252 - val_loss: 0.8966\n",
      "Epoch 5/5\n",
      "\u001B[1m1719/1719\u001B[0m \u001B[32m━━━━━━━━━━━━━━━━━━━━\u001B[0m\u001B[37m\u001B[0m \u001B[1m43s\u001B[0m 25ms/step - accuracy: 0.6274 - loss: 0.9164 - val_accuracy: 0.5702 - val_loss: 1.0052\n"
     ]
    }
   ],
   "execution_count": 15
  },
  {
   "metadata": {},
   "cell_type": "markdown",
   "source": "# 11.1.3 批量归一化",
   "id": "de0ce4b1cf6e837b"
  },
  {
   "metadata": {},
   "cell_type": "code",
   "outputs": [],
   "execution_count": null,
   "source": "",
   "id": "1cdeb836f97f3a53"
  }
 ],
 "metadata": {
  "kernelspec": {
   "name": "python3",
   "language": "python",
   "display_name": "Python 3 (ipykernel)"
  }
 },
 "nbformat": 5,
 "nbformat_minor": 9
}
